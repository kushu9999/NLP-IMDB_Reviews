{
  "nbformat": 4,
  "nbformat_minor": 0,
  "metadata": {
    "colab": {
      "name": "IMDB_Reviews_NLP.ipynb",
      "provenance": [],
      "machine_shape": "hm",
      "include_colab_link": true
    },
    "kernelspec": {
      "name": "python3",
      "display_name": "Python 3"
    },
    "accelerator": "GPU"
  },
  "cells": [
    {
      "cell_type": "markdown",
      "metadata": {
        "id": "view-in-github",
        "colab_type": "text"
      },
      "source": [
        "<a href=\"https://colab.research.google.com/github/kushu9999/NLP-IMDB_Reviews/blob/master/IMDB_Reviews_NLP.ipynb\" target=\"_parent\"><img src=\"https://colab.research.google.com/assets/colab-badge.svg\" alt=\"Open In Colab\"/></a>"
      ]
    },
    {
      "cell_type": "code",
      "metadata": {
        "id": "G8hQaCCgZLdf",
        "colab_type": "code",
        "colab": {}
      },
      "source": [
        "# Importing Libraries\n",
        "import numpy as np\n",
        "import pandas as pd\n",
        "import matplotlib.pyplot as plt\n",
        "\n",
        "%matplotlib inline\n"
      ],
      "execution_count": 0,
      "outputs": []
    },
    {
      "cell_type": "code",
      "metadata": {
        "id": "jRPgSeYFZqbh",
        "colab_type": "code",
        "colab": {}
      },
      "source": [
        "dataset = pd.read_csv(\"/content/drive/My Drive/Web Data/IMDB Dataset.csv\") #Importing dataset"
      ],
      "execution_count": 0,
      "outputs": []
    },
    {
      "cell_type": "code",
      "metadata": {
        "id": "u-fYQHSBZ_vc",
        "colab_type": "code",
        "outputId": "a6073047-250e-4fd7-d6c7-c97d15efea71",
        "colab": {
          "base_uri": "https://localhost:8080/",
          "height": 195
        }
      },
      "source": [
        "dataset.head() # It'll show first 5 datasets"
      ],
      "execution_count": 7,
      "outputs": [
        {
          "output_type": "execute_result",
          "data": {
            "text/html": [
              "<div>\n",
              "<style scoped>\n",
              "    .dataframe tbody tr th:only-of-type {\n",
              "        vertical-align: middle;\n",
              "    }\n",
              "\n",
              "    .dataframe tbody tr th {\n",
              "        vertical-align: top;\n",
              "    }\n",
              "\n",
              "    .dataframe thead th {\n",
              "        text-align: right;\n",
              "    }\n",
              "</style>\n",
              "<table border=\"1\" class=\"dataframe\">\n",
              "  <thead>\n",
              "    <tr style=\"text-align: right;\">\n",
              "      <th></th>\n",
              "      <th>review</th>\n",
              "      <th>sentiment</th>\n",
              "    </tr>\n",
              "  </thead>\n",
              "  <tbody>\n",
              "    <tr>\n",
              "      <th>0</th>\n",
              "      <td>One of the other reviewers has mentioned that ...</td>\n",
              "      <td>positive</td>\n",
              "    </tr>\n",
              "    <tr>\n",
              "      <th>1</th>\n",
              "      <td>A wonderful little production. &lt;br /&gt;&lt;br /&gt;The...</td>\n",
              "      <td>positive</td>\n",
              "    </tr>\n",
              "    <tr>\n",
              "      <th>2</th>\n",
              "      <td>I thought this was a wonderful way to spend ti...</td>\n",
              "      <td>positive</td>\n",
              "    </tr>\n",
              "    <tr>\n",
              "      <th>3</th>\n",
              "      <td>Basically there's a family where a little boy ...</td>\n",
              "      <td>negative</td>\n",
              "    </tr>\n",
              "    <tr>\n",
              "      <th>4</th>\n",
              "      <td>Petter Mattei's \"Love in the Time of Money\" is...</td>\n",
              "      <td>positive</td>\n",
              "    </tr>\n",
              "  </tbody>\n",
              "</table>\n",
              "</div>"
            ],
            "text/plain": [
              "                                              review sentiment\n",
              "0  One of the other reviewers has mentioned that ...  positive\n",
              "1  A wonderful little production. <br /><br />The...  positive\n",
              "2  I thought this was a wonderful way to spend ti...  positive\n",
              "3  Basically there's a family where a little boy ...  negative\n",
              "4  Petter Mattei's \"Love in the Time of Money\" is...  positive"
            ]
          },
          "metadata": {
            "tags": []
          },
          "execution_count": 7
        }
      ]
    },
    {
      "cell_type": "code",
      "metadata": {
        "id": "J8csL4uXaSUq",
        "colab_type": "code",
        "outputId": "0812e054-463a-4ee0-c3d7-a9825fcbdfab",
        "colab": {
          "base_uri": "https://localhost:8080/",
          "height": 166
        }
      },
      "source": [
        "dataset.describe() # Description of dataset"
      ],
      "execution_count": 8,
      "outputs": [
        {
          "output_type": "execute_result",
          "data": {
            "text/html": [
              "<div>\n",
              "<style scoped>\n",
              "    .dataframe tbody tr th:only-of-type {\n",
              "        vertical-align: middle;\n",
              "    }\n",
              "\n",
              "    .dataframe tbody tr th {\n",
              "        vertical-align: top;\n",
              "    }\n",
              "\n",
              "    .dataframe thead th {\n",
              "        text-align: right;\n",
              "    }\n",
              "</style>\n",
              "<table border=\"1\" class=\"dataframe\">\n",
              "  <thead>\n",
              "    <tr style=\"text-align: right;\">\n",
              "      <th></th>\n",
              "      <th>review</th>\n",
              "      <th>sentiment</th>\n",
              "    </tr>\n",
              "  </thead>\n",
              "  <tbody>\n",
              "    <tr>\n",
              "      <th>count</th>\n",
              "      <td>50000</td>\n",
              "      <td>50000</td>\n",
              "    </tr>\n",
              "    <tr>\n",
              "      <th>unique</th>\n",
              "      <td>49582</td>\n",
              "      <td>2</td>\n",
              "    </tr>\n",
              "    <tr>\n",
              "      <th>top</th>\n",
              "      <td>Loved today's show!!! It was a variety and not...</td>\n",
              "      <td>negative</td>\n",
              "    </tr>\n",
              "    <tr>\n",
              "      <th>freq</th>\n",
              "      <td>5</td>\n",
              "      <td>25000</td>\n",
              "    </tr>\n",
              "  </tbody>\n",
              "</table>\n",
              "</div>"
            ],
            "text/plain": [
              "                                                   review sentiment\n",
              "count                                               50000     50000\n",
              "unique                                              49582         2\n",
              "top     Loved today's show!!! It was a variety and not...  negative\n",
              "freq                                                    5     25000"
            ]
          },
          "metadata": {
            "tags": []
          },
          "execution_count": 8
        }
      ]
    },
    {
      "cell_type": "code",
      "metadata": {
        "id": "_iqt4jO8agEO",
        "colab_type": "code",
        "colab": {}
      },
      "source": [
        "import re # Importing re Library for for extracting words (remove all other only accept a-z & A-Z)"
      ],
      "execution_count": 0,
      "outputs": []
    },
    {
      "cell_type": "code",
      "metadata": {
        "id": "Dvm_cizuatOB",
        "colab_type": "code",
        "colab": {}
      },
      "source": [
        "review = re.sub('[^a-zA-z]',' ',dataset['review'][0]).lower()"
      ],
      "execution_count": 0,
      "outputs": []
    },
    {
      "cell_type": "code",
      "metadata": {
        "id": "zc0VZindbF9T",
        "colab_type": "code",
        "outputId": "61c82ad6-0587-46e4-a2f5-c6c836586791",
        "colab": {
          "base_uri": "https://localhost:8080/",
          "height": 54
        }
      },
      "source": [
        "review"
      ],
      "execution_count": 11,
      "outputs": [
        {
          "output_type": "execute_result",
          "data": {
            "text/plain": [
              "'one of the other reviewers has mentioned that after watching just   oz episode you ll be hooked  they are right  as this is exactly what happened with me  br    br   the first thing that struck me about oz was its brutality and unflinching scenes of violence  which set in right from the word go  trust me  this is not a show for the faint hearted or timid  this show pulls no punches with regards to drugs  sex or violence  its is hardcore  in the classic use of the word  br    br   it is called oz as that is the nickname given to the oswald maximum security state penitentary  it focuses mainly on emerald city  an experimental section of the prison where all the cells have glass fronts and face inwards  so privacy is not high on the agenda  em city is home to many  aryans  muslims  gangstas  latinos  christians  italians  irish and more    so scuffles  death stares  dodgy dealings and shady agreements are never far away  br    br   i would say the main appeal of the show is due to the fact that it goes where other shows wouldn t dare  forget pretty pictures painted for mainstream audiences  forget charm  forget romance   oz doesn t mess around  the first episode i ever saw struck me as so nasty it was surreal  i couldn t say i was ready for it  but as i watched more  i developed a taste for oz  and got accustomed to the high levels of graphic violence  not just violence  but injustice  crooked guards who ll be sold out for a nickel  inmates who ll kill on order and get away with it  well mannered  middle class inmates being turned into prison bitches due to their lack of street skills or prison experience  watching oz  you may become comfortable with what is uncomfortable viewing    thats if you can get in touch with your darker side '"
            ]
          },
          "metadata": {
            "tags": []
          },
          "execution_count": 11
        }
      ]
    },
    {
      "cell_type": "code",
      "metadata": {
        "id": "68PhwgrubH36",
        "colab_type": "code",
        "colab": {}
      },
      "source": [
        "# Downloading stopwords from nltk"
      ],
      "execution_count": 0,
      "outputs": []
    },
    {
      "cell_type": "code",
      "metadata": {
        "id": "2CqC1wYvbfgm",
        "colab_type": "code",
        "outputId": "2c1c9f4b-edff-41b0-9491-ee3ed11b01d7",
        "colab": {
          "base_uri": "https://localhost:8080/",
          "height": 50
        }
      },
      "source": [
        "# Importing nltk library\n",
        "# NLTK is best library for Natural language Processing\n",
        "\n",
        "import nltk  \n",
        "nltk.download('stopwords')\n",
        "from nltk.corpus import stopwords"
      ],
      "execution_count": 13,
      "outputs": [
        {
          "output_type": "stream",
          "text": [
            "[nltk_data] Downloading package stopwords to /root/nltk_data...\n",
            "[nltk_data]   Unzipping corpora/stopwords.zip.\n"
          ],
          "name": "stdout"
        }
      ]
    },
    {
      "cell_type": "code",
      "metadata": {
        "id": "woR53RiPbrE3",
        "colab_type": "code",
        "colab": {}
      },
      "source": [
        "review = review.split() # Spliting words and it'll create list"
      ],
      "execution_count": 0,
      "outputs": []
    },
    {
      "cell_type": "code",
      "metadata": {
        "id": "DD4ByaSScbpC",
        "colab_type": "code",
        "outputId": "4c81f503-7f78-4784-fb2b-56f61b966b70",
        "colab": {
          "base_uri": "https://localhost:8080/",
          "height": 1000
        }
      },
      "source": [
        "review"
      ],
      "execution_count": 15,
      "outputs": [
        {
          "output_type": "execute_result",
          "data": {
            "text/plain": [
              "['one',\n",
              " 'of',\n",
              " 'the',\n",
              " 'other',\n",
              " 'reviewers',\n",
              " 'has',\n",
              " 'mentioned',\n",
              " 'that',\n",
              " 'after',\n",
              " 'watching',\n",
              " 'just',\n",
              " 'oz',\n",
              " 'episode',\n",
              " 'you',\n",
              " 'll',\n",
              " 'be',\n",
              " 'hooked',\n",
              " 'they',\n",
              " 'are',\n",
              " 'right',\n",
              " 'as',\n",
              " 'this',\n",
              " 'is',\n",
              " 'exactly',\n",
              " 'what',\n",
              " 'happened',\n",
              " 'with',\n",
              " 'me',\n",
              " 'br',\n",
              " 'br',\n",
              " 'the',\n",
              " 'first',\n",
              " 'thing',\n",
              " 'that',\n",
              " 'struck',\n",
              " 'me',\n",
              " 'about',\n",
              " 'oz',\n",
              " 'was',\n",
              " 'its',\n",
              " 'brutality',\n",
              " 'and',\n",
              " 'unflinching',\n",
              " 'scenes',\n",
              " 'of',\n",
              " 'violence',\n",
              " 'which',\n",
              " 'set',\n",
              " 'in',\n",
              " 'right',\n",
              " 'from',\n",
              " 'the',\n",
              " 'word',\n",
              " 'go',\n",
              " 'trust',\n",
              " 'me',\n",
              " 'this',\n",
              " 'is',\n",
              " 'not',\n",
              " 'a',\n",
              " 'show',\n",
              " 'for',\n",
              " 'the',\n",
              " 'faint',\n",
              " 'hearted',\n",
              " 'or',\n",
              " 'timid',\n",
              " 'this',\n",
              " 'show',\n",
              " 'pulls',\n",
              " 'no',\n",
              " 'punches',\n",
              " 'with',\n",
              " 'regards',\n",
              " 'to',\n",
              " 'drugs',\n",
              " 'sex',\n",
              " 'or',\n",
              " 'violence',\n",
              " 'its',\n",
              " 'is',\n",
              " 'hardcore',\n",
              " 'in',\n",
              " 'the',\n",
              " 'classic',\n",
              " 'use',\n",
              " 'of',\n",
              " 'the',\n",
              " 'word',\n",
              " 'br',\n",
              " 'br',\n",
              " 'it',\n",
              " 'is',\n",
              " 'called',\n",
              " 'oz',\n",
              " 'as',\n",
              " 'that',\n",
              " 'is',\n",
              " 'the',\n",
              " 'nickname',\n",
              " 'given',\n",
              " 'to',\n",
              " 'the',\n",
              " 'oswald',\n",
              " 'maximum',\n",
              " 'security',\n",
              " 'state',\n",
              " 'penitentary',\n",
              " 'it',\n",
              " 'focuses',\n",
              " 'mainly',\n",
              " 'on',\n",
              " 'emerald',\n",
              " 'city',\n",
              " 'an',\n",
              " 'experimental',\n",
              " 'section',\n",
              " 'of',\n",
              " 'the',\n",
              " 'prison',\n",
              " 'where',\n",
              " 'all',\n",
              " 'the',\n",
              " 'cells',\n",
              " 'have',\n",
              " 'glass',\n",
              " 'fronts',\n",
              " 'and',\n",
              " 'face',\n",
              " 'inwards',\n",
              " 'so',\n",
              " 'privacy',\n",
              " 'is',\n",
              " 'not',\n",
              " 'high',\n",
              " 'on',\n",
              " 'the',\n",
              " 'agenda',\n",
              " 'em',\n",
              " 'city',\n",
              " 'is',\n",
              " 'home',\n",
              " 'to',\n",
              " 'many',\n",
              " 'aryans',\n",
              " 'muslims',\n",
              " 'gangstas',\n",
              " 'latinos',\n",
              " 'christians',\n",
              " 'italians',\n",
              " 'irish',\n",
              " 'and',\n",
              " 'more',\n",
              " 'so',\n",
              " 'scuffles',\n",
              " 'death',\n",
              " 'stares',\n",
              " 'dodgy',\n",
              " 'dealings',\n",
              " 'and',\n",
              " 'shady',\n",
              " 'agreements',\n",
              " 'are',\n",
              " 'never',\n",
              " 'far',\n",
              " 'away',\n",
              " 'br',\n",
              " 'br',\n",
              " 'i',\n",
              " 'would',\n",
              " 'say',\n",
              " 'the',\n",
              " 'main',\n",
              " 'appeal',\n",
              " 'of',\n",
              " 'the',\n",
              " 'show',\n",
              " 'is',\n",
              " 'due',\n",
              " 'to',\n",
              " 'the',\n",
              " 'fact',\n",
              " 'that',\n",
              " 'it',\n",
              " 'goes',\n",
              " 'where',\n",
              " 'other',\n",
              " 'shows',\n",
              " 'wouldn',\n",
              " 't',\n",
              " 'dare',\n",
              " 'forget',\n",
              " 'pretty',\n",
              " 'pictures',\n",
              " 'painted',\n",
              " 'for',\n",
              " 'mainstream',\n",
              " 'audiences',\n",
              " 'forget',\n",
              " 'charm',\n",
              " 'forget',\n",
              " 'romance',\n",
              " 'oz',\n",
              " 'doesn',\n",
              " 't',\n",
              " 'mess',\n",
              " 'around',\n",
              " 'the',\n",
              " 'first',\n",
              " 'episode',\n",
              " 'i',\n",
              " 'ever',\n",
              " 'saw',\n",
              " 'struck',\n",
              " 'me',\n",
              " 'as',\n",
              " 'so',\n",
              " 'nasty',\n",
              " 'it',\n",
              " 'was',\n",
              " 'surreal',\n",
              " 'i',\n",
              " 'couldn',\n",
              " 't',\n",
              " 'say',\n",
              " 'i',\n",
              " 'was',\n",
              " 'ready',\n",
              " 'for',\n",
              " 'it',\n",
              " 'but',\n",
              " 'as',\n",
              " 'i',\n",
              " 'watched',\n",
              " 'more',\n",
              " 'i',\n",
              " 'developed',\n",
              " 'a',\n",
              " 'taste',\n",
              " 'for',\n",
              " 'oz',\n",
              " 'and',\n",
              " 'got',\n",
              " 'accustomed',\n",
              " 'to',\n",
              " 'the',\n",
              " 'high',\n",
              " 'levels',\n",
              " 'of',\n",
              " 'graphic',\n",
              " 'violence',\n",
              " 'not',\n",
              " 'just',\n",
              " 'violence',\n",
              " 'but',\n",
              " 'injustice',\n",
              " 'crooked',\n",
              " 'guards',\n",
              " 'who',\n",
              " 'll',\n",
              " 'be',\n",
              " 'sold',\n",
              " 'out',\n",
              " 'for',\n",
              " 'a',\n",
              " 'nickel',\n",
              " 'inmates',\n",
              " 'who',\n",
              " 'll',\n",
              " 'kill',\n",
              " 'on',\n",
              " 'order',\n",
              " 'and',\n",
              " 'get',\n",
              " 'away',\n",
              " 'with',\n",
              " 'it',\n",
              " 'well',\n",
              " 'mannered',\n",
              " 'middle',\n",
              " 'class',\n",
              " 'inmates',\n",
              " 'being',\n",
              " 'turned',\n",
              " 'into',\n",
              " 'prison',\n",
              " 'bitches',\n",
              " 'due',\n",
              " 'to',\n",
              " 'their',\n",
              " 'lack',\n",
              " 'of',\n",
              " 'street',\n",
              " 'skills',\n",
              " 'or',\n",
              " 'prison',\n",
              " 'experience',\n",
              " 'watching',\n",
              " 'oz',\n",
              " 'you',\n",
              " 'may',\n",
              " 'become',\n",
              " 'comfortable',\n",
              " 'with',\n",
              " 'what',\n",
              " 'is',\n",
              " 'uncomfortable',\n",
              " 'viewing',\n",
              " 'thats',\n",
              " 'if',\n",
              " 'you',\n",
              " 'can',\n",
              " 'get',\n",
              " 'in',\n",
              " 'touch',\n",
              " 'with',\n",
              " 'your',\n",
              " 'darker',\n",
              " 'side']"
            ]
          },
          "metadata": {
            "tags": []
          },
          "execution_count": 15
        }
      ]
    },
    {
      "cell_type": "code",
      "metadata": {
        "id": "hQkHtOjuccjX",
        "colab_type": "code",
        "colab": {}
      },
      "source": [
        "# stamming = taking the roots of the words [eg.loved,loving,lovely = love]"
      ],
      "execution_count": 0,
      "outputs": []
    },
    {
      "cell_type": "code",
      "metadata": {
        "id": "lIJ7Nae9c0ez",
        "colab_type": "code",
        "colab": {}
      },
      "source": [
        "from nltk.stem.porter import PorterStemmer\n",
        "ps = PorterStemmer()"
      ],
      "execution_count": 0,
      "outputs": []
    },
    {
      "cell_type": "code",
      "metadata": {
        "id": "wdRk09HZdNXX",
        "colab_type": "code",
        "colab": {}
      },
      "source": [
        "review = [ps.stem(word) for word in review if not word in set(stopwords.words('english'))]"
      ],
      "execution_count": 0,
      "outputs": []
    },
    {
      "cell_type": "code",
      "metadata": {
        "id": "T1PhSOWyd1Xv",
        "colab_type": "code",
        "outputId": "11b5017d-af75-4cf4-b6fb-a770db3ffca1",
        "colab": {
          "base_uri": "https://localhost:8080/",
          "height": 1000
        }
      },
      "source": [
        "review"
      ],
      "execution_count": 19,
      "outputs": [
        {
          "output_type": "execute_result",
          "data": {
            "text/plain": [
              "['one',\n",
              " 'review',\n",
              " 'mention',\n",
              " 'watch',\n",
              " 'oz',\n",
              " 'episod',\n",
              " 'hook',\n",
              " 'right',\n",
              " 'exactli',\n",
              " 'happen',\n",
              " 'br',\n",
              " 'br',\n",
              " 'first',\n",
              " 'thing',\n",
              " 'struck',\n",
              " 'oz',\n",
              " 'brutal',\n",
              " 'unflinch',\n",
              " 'scene',\n",
              " 'violenc',\n",
              " 'set',\n",
              " 'right',\n",
              " 'word',\n",
              " 'go',\n",
              " 'trust',\n",
              " 'show',\n",
              " 'faint',\n",
              " 'heart',\n",
              " 'timid',\n",
              " 'show',\n",
              " 'pull',\n",
              " 'punch',\n",
              " 'regard',\n",
              " 'drug',\n",
              " 'sex',\n",
              " 'violenc',\n",
              " 'hardcor',\n",
              " 'classic',\n",
              " 'use',\n",
              " 'word',\n",
              " 'br',\n",
              " 'br',\n",
              " 'call',\n",
              " 'oz',\n",
              " 'nicknam',\n",
              " 'given',\n",
              " 'oswald',\n",
              " 'maximum',\n",
              " 'secur',\n",
              " 'state',\n",
              " 'penitentari',\n",
              " 'focus',\n",
              " 'mainli',\n",
              " 'emerald',\n",
              " 'citi',\n",
              " 'experiment',\n",
              " 'section',\n",
              " 'prison',\n",
              " 'cell',\n",
              " 'glass',\n",
              " 'front',\n",
              " 'face',\n",
              " 'inward',\n",
              " 'privaci',\n",
              " 'high',\n",
              " 'agenda',\n",
              " 'em',\n",
              " 'citi',\n",
              " 'home',\n",
              " 'mani',\n",
              " 'aryan',\n",
              " 'muslim',\n",
              " 'gangsta',\n",
              " 'latino',\n",
              " 'christian',\n",
              " 'italian',\n",
              " 'irish',\n",
              " 'scuffl',\n",
              " 'death',\n",
              " 'stare',\n",
              " 'dodgi',\n",
              " 'deal',\n",
              " 'shadi',\n",
              " 'agreement',\n",
              " 'never',\n",
              " 'far',\n",
              " 'away',\n",
              " 'br',\n",
              " 'br',\n",
              " 'would',\n",
              " 'say',\n",
              " 'main',\n",
              " 'appeal',\n",
              " 'show',\n",
              " 'due',\n",
              " 'fact',\n",
              " 'goe',\n",
              " 'show',\n",
              " 'dare',\n",
              " 'forget',\n",
              " 'pretti',\n",
              " 'pictur',\n",
              " 'paint',\n",
              " 'mainstream',\n",
              " 'audienc',\n",
              " 'forget',\n",
              " 'charm',\n",
              " 'forget',\n",
              " 'romanc',\n",
              " 'oz',\n",
              " 'mess',\n",
              " 'around',\n",
              " 'first',\n",
              " 'episod',\n",
              " 'ever',\n",
              " 'saw',\n",
              " 'struck',\n",
              " 'nasti',\n",
              " 'surreal',\n",
              " 'say',\n",
              " 'readi',\n",
              " 'watch',\n",
              " 'develop',\n",
              " 'tast',\n",
              " 'oz',\n",
              " 'got',\n",
              " 'accustom',\n",
              " 'high',\n",
              " 'level',\n",
              " 'graphic',\n",
              " 'violenc',\n",
              " 'violenc',\n",
              " 'injustic',\n",
              " 'crook',\n",
              " 'guard',\n",
              " 'sold',\n",
              " 'nickel',\n",
              " 'inmat',\n",
              " 'kill',\n",
              " 'order',\n",
              " 'get',\n",
              " 'away',\n",
              " 'well',\n",
              " 'manner',\n",
              " 'middl',\n",
              " 'class',\n",
              " 'inmat',\n",
              " 'turn',\n",
              " 'prison',\n",
              " 'bitch',\n",
              " 'due',\n",
              " 'lack',\n",
              " 'street',\n",
              " 'skill',\n",
              " 'prison',\n",
              " 'experi',\n",
              " 'watch',\n",
              " 'oz',\n",
              " 'may',\n",
              " 'becom',\n",
              " 'comfort',\n",
              " 'uncomfort',\n",
              " 'view',\n",
              " 'that',\n",
              " 'get',\n",
              " 'touch',\n",
              " 'darker',\n",
              " 'side']"
            ]
          },
          "metadata": {
            "tags": []
          },
          "execution_count": 19
        }
      ]
    },
    {
      "cell_type": "code",
      "metadata": {
        "id": "pV9vB7T3d3fn",
        "colab_type": "code",
        "colab": {}
      },
      "source": [
        "review = ' '.join(review)"
      ],
      "execution_count": 0,
      "outputs": []
    },
    {
      "cell_type": "code",
      "metadata": {
        "id": "ztvns0lbeurG",
        "colab_type": "code",
        "outputId": "6a380a79-7a6a-48fb-9c5e-b4f3209055f9",
        "colab": {
          "base_uri": "https://localhost:8080/",
          "height": 54
        }
      },
      "source": [
        "review"
      ],
      "execution_count": 21,
      "outputs": [
        {
          "output_type": "execute_result",
          "data": {
            "text/plain": [
              "'one review mention watch oz episod hook right exactli happen br br first thing struck oz brutal unflinch scene violenc set right word go trust show faint heart timid show pull punch regard drug sex violenc hardcor classic use word br br call oz nicknam given oswald maximum secur state penitentari focus mainli emerald citi experiment section prison cell glass front face inward privaci high agenda em citi home mani aryan muslim gangsta latino christian italian irish scuffl death stare dodgi deal shadi agreement never far away br br would say main appeal show due fact goe show dare forget pretti pictur paint mainstream audienc forget charm forget romanc oz mess around first episod ever saw struck nasti surreal say readi watch develop tast oz got accustom high level graphic violenc violenc injustic crook guard sold nickel inmat kill order get away well manner middl class inmat turn prison bitch due lack street skill prison experi watch oz may becom comfort uncomfort view that get touch darker side'"
            ]
          },
          "metadata": {
            "tags": []
          },
          "execution_count": 21
        }
      ]
    },
    {
      "cell_type": "code",
      "metadata": {
        "id": "3se7gbs4ev3e",
        "colab_type": "code",
        "colab": {}
      },
      "source": [
        "'''in NLP Corpus is common word, corpus is collection of texts and texts can be anything'''\n",
        "corpus = []\n",
        "\n",
        "for  i in range(0,4000): # Same thing we are doing on 4000 ratings # For 50000 my pc took 25 minutes\n",
        "  review = re.sub('[^a-zA-Z]',' ',dataset['review'][i])\n",
        "  review = review.lower()\n",
        "  review = review.split() # spliting strings into list \n",
        "  review = [word for word in review if not word in set(stopwords.words('english'))]\n",
        "  review = [ps.stem(word) for word in review if not word in set(stopwords.words('english'))]\n",
        "  review = ' '.join(review)\n",
        "  corpus.append(review)"
      ],
      "execution_count": 0,
      "outputs": []
    },
    {
      "cell_type": "code",
      "metadata": {
        "id": "owIIK_qzlpr2",
        "colab_type": "code",
        "colab": {
          "base_uri": "https://localhost:8080/",
          "height": 54
        },
        "outputId": "ba225342-5a0d-4fa2-98f4-644f14f0243e"
      },
      "source": [
        "dataset['review'][2]"
      ],
      "execution_count": 23,
      "outputs": [
        {
          "output_type": "execute_result",
          "data": {
            "text/plain": [
              "'I thought this was a wonderful way to spend time on a too hot summer weekend, sitting in the air conditioned theater and watching a light-hearted comedy. The plot is simplistic, but the dialogue is witty and the characters are likable (even the well bread suspected serial killer). While some may be disappointed when they realize this is not Match Point 2: Risk Addiction, I thought it was proof that Woody Allen is still fully in control of the style many of us have grown to love.<br /><br />This was the most I\\'d laughed at one of Woody\\'s comedies in years (dare I say a decade?). While I\\'ve never been impressed with Scarlet Johanson, in this she managed to tone down her \"sexy\" image and jumped right into a average, but spirited young woman.<br /><br />This may not be the crown jewel of his career, but it was wittier than \"Devil Wears Prada\" and more interesting than \"Superman\" a great comedy to go see with friends.'"
            ]
          },
          "metadata": {
            "tags": []
          },
          "execution_count": 23
        }
      ]
    },
    {
      "cell_type": "markdown",
      "metadata": {
        "id": "n1PEK7HzXVR6",
        "colab_type": "text"
      },
      "source": [
        "# Creating Bag Of Words Model"
      ]
    },
    {
      "cell_type": "code",
      "metadata": {
        "id": "NBmCo6gwlsXF",
        "colab_type": "code",
        "colab": {}
      },
      "source": [
        "from sklearn.feature_extraction.text import CountVectorizer\n",
        "cv = CountVectorizer()\n",
        "X  = cv.fit_transform(corpus).toarray()"
      ],
      "execution_count": 0,
      "outputs": []
    },
    {
      "cell_type": "code",
      "metadata": {
        "id": "SmqyYW8HmJXL",
        "colab_type": "code",
        "colab": {
          "base_uri": "https://localhost:8080/",
          "height": 134
        },
        "outputId": "d27c9c50-fc49-4fc4-ec58-c2c0fd729d29"
      },
      "source": [
        "X"
      ],
      "execution_count": 25,
      "outputs": [
        {
          "output_type": "execute_result",
          "data": {
            "text/plain": [
              "array([[0, 0, 0, ..., 0, 0, 0],\n",
              "       [0, 0, 0, ..., 0, 0, 0],\n",
              "       [0, 0, 0, ..., 0, 0, 0],\n",
              "       ...,\n",
              "       [0, 0, 0, ..., 0, 0, 0],\n",
              "       [0, 0, 0, ..., 0, 0, 0],\n",
              "       [0, 0, 0, ..., 0, 0, 0]])"
            ]
          },
          "metadata": {
            "tags": []
          },
          "execution_count": 25
        }
      ]
    },
    {
      "cell_type": "code",
      "metadata": {
        "id": "kTYA-wMqmKr9",
        "colab_type": "code",
        "colab": {
          "base_uri": "https://localhost:8080/",
          "height": 34
        },
        "outputId": "88c704eb-6d1e-481e-9b9e-12c573d8114b"
      },
      "source": [
        "X.shape"
      ],
      "execution_count": 26,
      "outputs": [
        {
          "output_type": "execute_result",
          "data": {
            "text/plain": [
              "(4000, 23601)"
            ]
          },
          "metadata": {
            "tags": []
          },
          "execution_count": 26
        }
      ]
    },
    {
      "cell_type": "code",
      "metadata": {
        "id": "b8mRYdvfmXE3",
        "colab_type": "code",
        "colab": {}
      },
      "source": [
        "y = dataset.iloc[:4000,1].values"
      ],
      "execution_count": 0,
      "outputs": []
    },
    {
      "cell_type": "code",
      "metadata": {
        "id": "o06QQiwMnKTP",
        "colab_type": "code",
        "colab": {
          "base_uri": "https://localhost:8080/",
          "height": 34
        },
        "outputId": "8177558e-64c4-4f7b-9fca-6cf627d201e9"
      },
      "source": [
        "y.shape"
      ],
      "execution_count": 28,
      "outputs": [
        {
          "output_type": "execute_result",
          "data": {
            "text/plain": [
              "(4000,)"
            ]
          },
          "metadata": {
            "tags": []
          },
          "execution_count": 28
        }
      ]
    },
    {
      "cell_type": "code",
      "metadata": {
        "id": "ZnAmOkHBmXzk",
        "colab_type": "code",
        "colab": {}
      },
      "source": [
        "from sklearn.model_selection import train_test_split # splitting out dataset\n",
        "X_train,X_test,y_train,y_test = train_test_split(X,y,test_size = 0.25,random_state=0,stratify=y)"
      ],
      "execution_count": 0,
      "outputs": []
    },
    {
      "cell_type": "code",
      "metadata": {
        "id": "5GAth1I2maiu",
        "colab_type": "code",
        "colab": {
          "base_uri": "https://localhost:8080/",
          "height": 188
        },
        "outputId": "86676468-351b-4339-dfc0-b616f05b8a08"
      },
      "source": [
        "from sklearn.ensemble import RandomForestClassifier # Importing Randomforest algo # You can choose any other algo\n",
        "classifier = RandomForestClassifier()\n",
        "classifier.fit(X_train,y_train)"
      ],
      "execution_count": 30,
      "outputs": [
        {
          "output_type": "stream",
          "text": [
            "/usr/local/lib/python3.6/dist-packages/sklearn/ensemble/forest.py:245: FutureWarning: The default value of n_estimators will change from 10 in version 0.20 to 100 in 0.22.\n",
            "  \"10 in version 0.20 to 100 in 0.22.\", FutureWarning)\n"
          ],
          "name": "stderr"
        },
        {
          "output_type": "execute_result",
          "data": {
            "text/plain": [
              "RandomForestClassifier(bootstrap=True, class_weight=None, criterion='gini',\n",
              "                       max_depth=None, max_features='auto', max_leaf_nodes=None,\n",
              "                       min_impurity_decrease=0.0, min_impurity_split=None,\n",
              "                       min_samples_leaf=1, min_samples_split=2,\n",
              "                       min_weight_fraction_leaf=0.0, n_estimators=10,\n",
              "                       n_jobs=None, oob_score=False, random_state=None,\n",
              "                       verbose=0, warm_start=False)"
            ]
          },
          "metadata": {
            "tags": []
          },
          "execution_count": 30
        }
      ]
    },
    {
      "cell_type": "code",
      "metadata": {
        "id": "eUTb6wTKnYOG",
        "colab_type": "code",
        "colab": {}
      },
      "source": [
        "y_pred = classifier.predict(X_test) # Predicting the output"
      ],
      "execution_count": 0,
      "outputs": []
    },
    {
      "cell_type": "code",
      "metadata": {
        "id": "nsMJiAnrnbRp",
        "colab_type": "code",
        "colab": {}
      },
      "source": [
        "from sklearn.metrics import confusion_matrix # Importing Confusion Matrix and check acuuracy\n",
        "cm = confusion_matrix(y_test,y_pred)"
      ],
      "execution_count": 0,
      "outputs": []
    },
    {
      "cell_type": "code",
      "metadata": {
        "id": "kacsdjtOnd62",
        "colab_type": "code",
        "colab": {
          "base_uri": "https://localhost:8080/",
          "height": 50
        },
        "outputId": "efcc3942-c76b-491a-98f1-d351d571ed71"
      },
      "source": [
        "cm"
      ],
      "execution_count": 33,
      "outputs": [
        {
          "output_type": "execute_result",
          "data": {
            "text/plain": [
              "array([[433,  74],\n",
              "       [187, 306]])"
            ]
          },
          "metadata": {
            "tags": []
          },
          "execution_count": 33
        }
      ]
    },
    {
      "cell_type": "markdown",
      "metadata": {
        "id": "_RyDIHarnerW",
        "colab_type": "text"
      },
      "source": [
        "# Accuracy 73.9%"
      ]
    }
  ]
}